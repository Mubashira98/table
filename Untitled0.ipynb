{
  "nbformat": 4,
  "nbformat_minor": 0,
  "metadata": {
    "colab": {
      "provenance": [],
      "toc_visible": true,
      "collapsed_sections": [],
      "authorship_tag": "ABX9TyMpA0c49bb3AGMxnyy5fWJz",
      "include_colab_link": true
    },
    "kernelspec": {
      "name": "python3",
      "display_name": "Python 3"
    },
    "language_info": {
      "name": "python"
    }
  },
  "cells": [
    {
      "cell_type": "markdown",
      "metadata": {
        "id": "view-in-github",
        "colab_type": "text"
      },
      "source": [
        "<a href=\"https://colab.research.google.com/github/Mubashira98/table/blob/main/Untitled0.ipynb\" target=\"_parent\"><img src=\"https://colab.research.google.com/assets/colab-badge.svg\" alt=\"Open In Colab\"/></a>"
      ]
    },
    {
      "cell_type": "code",
      "execution_count": null,
      "metadata": {
        "colab": {
          "base_uri": "https://localhost:8080/"
        },
        "id": "O9S1CkydxsVD",
        "outputId": "a88e3bf8-c7cb-4045-8306-0213469ab8c1"
      },
      "outputs": [
        {
          "output_type": "stream",
          "name": "stdout",
          "text": [
            "enter a number:2\n",
            "square of the number is: 4\n",
            "cube of the number is: 8\n"
          ]
        }
      ],
      "source": [
        "# a= int(input(\"enter first number\"))\n",
        "# b=int(input(\"enter second number:\"))\n",
        "# print(\"addition:\")\n",
        "# sum=a+b\n",
        "# print(str(sum))\n",
        "# print(\"subtraction\")\n",
        "# sub=a-b\n",
        "# print(str(sub))\n",
        "# print(\"multiplication\")\n",
        "# mul=a*b\n",
        "# print(str(mul))\n",
        "# print(\"division\")\n",
        "# div=a/b\n",
        "# print(str(div))\n",
        "\n",
        "# square of a number\n",
        "a=int(input(\"enter a number:\"))\n",
        "print(\"square of the number is:\", a**2)\n",
        "print(\"cube of the number is:\", a**3)"
      ]
    },
    {
      "cell_type": "code",
      "source": [
        "a=int(input(\"enter your age:\"))\n",
        "if a>=18:\n",
        "  print(\"you are eligible for vote\")\n",
        "else:\n",
        "  print(\"not eligible for vote\")"
      ],
      "metadata": {
        "colab": {
          "base_uri": "https://localhost:8080/"
        },
        "id": "C9ZG9t511GiC",
        "outputId": "bad41f7e-5e66-4099-b868-92b37f960383"
      },
      "execution_count": null,
      "outputs": [
        {
          "output_type": "stream",
          "name": "stdout",
          "text": [
            "enter your age:18\n",
            "you are eligible for vote\n"
          ]
        }
      ]
    },
    {
      "cell_type": "code",
      "source": [
        "# list operations\n",
        "list1=[\"apple\",\"orange\",\"grapes\",1]\n",
        "print(list1)\n",
        "\n",
        "list1[1]=\"fruit\"\n",
        "print(list1)\n",
        "\n",
        "list1.append(\"orange\")\n",
        "print(list1)\n",
        "\n",
        "list1.insert(1,1)\n",
        "print(list1)\n",
        "\n",
        "list1.remove(1)\n",
        "print(list1)\n",
        "\n",
        "del list1[-2]\n",
        "print(list1)\n",
        "\n",
        "list1.pop()\n",
        "print(list1)\n",
        "\n",
        "list1.pop(0)\n",
        "print(list1)\n",
        "\n",
        "list1.clear()\n",
        "print(list1)"
      ],
      "metadata": {
        "colab": {
          "base_uri": "https://localhost:8080/"
        },
        "id": "QUSoTKkb2ytq",
        "outputId": "7fae14bb-80f8-41d7-aa0f-7263edf23500"
      },
      "execution_count": null,
      "outputs": [
        {
          "output_type": "stream",
          "name": "stdout",
          "text": [
            "['apple', 'orange', 'grapes', 1]\n",
            "['apple', 'fruit', 'grapes', 1]\n",
            "['apple', 'fruit', 'grapes', 1, 'orange']\n",
            "['apple', 1, 'fruit', 'grapes', 1, 'orange']\n",
            "['apple', 'fruit', 'grapes', 1, 'orange']\n",
            "['apple', 'fruit', 'grapes', 'orange']\n",
            "['apple', 'fruit', 'grapes']\n",
            "['fruit', 'grapes']\n",
            "[]\n"
          ]
        }
      ]
    },
    {
      "cell_type": "code",
      "source": [
        "# create set\n",
        "\n",
        "set1={\"apple\",\"orange\",\"python\",1,2}\n",
        "print(set1)\n",
        "print(type(set1))\n",
        "set1.add(\"intern\")\n",
        "print(set1)\n",
        "set2={\"c\",\"mubi\"}\n",
        "set1.update(set2)\n",
        "print(set1)\n",
        "set1.remove(\"c\")\n",
        "print(set1)\n",
        "set1.discard(\"intern\")\n",
        "print(set1)\n",
        "x=set1.pop()\n",
        "print(x)\n",
        "set1.clear()\n",
        "print(set1)\n",
        "del set1\n",
        "print(set1)"
      ],
      "metadata": {
        "colab": {
          "base_uri": "https://localhost:8080/",
          "height": 339
        },
        "id": "_Gu-XYGzEaYs",
        "outputId": "45706659-3499-4914-c753-772cd48b43dd"
      },
      "execution_count": null,
      "outputs": [
        {
          "output_type": "stream",
          "name": "stdout",
          "text": [
            "{1, 2, 'python', 'orange', 'apple'}\n",
            "<class 'set'>\n",
            "{1, 2, 'intern', 'python', 'orange', 'apple'}\n",
            "{1, 2, 'intern', 'c', 'python', 'orange', 'apple', 'mubi'}\n",
            "{1, 2, 'intern', 'python', 'orange', 'apple', 'mubi'}\n",
            "{1, 2, 'python', 'orange', 'apple', 'mubi'}\n",
            "1\n",
            "set()\n"
          ]
        },
        {
          "output_type": "error",
          "ename": "NameError",
          "evalue": "ignored",
          "traceback": [
            "\u001b[0;31m---------------------------------------------------------------------------\u001b[0m",
            "\u001b[0;31mNameError\u001b[0m                                 Traceback (most recent call last)",
            "\u001b[0;32m<ipython-input-33-0e485480e4b4>\u001b[0m in \u001b[0;36m<module>\u001b[0;34m\u001b[0m\n\u001b[1;32m     18\u001b[0m \u001b[0mprint\u001b[0m\u001b[0;34m(\u001b[0m\u001b[0mset1\u001b[0m\u001b[0;34m)\u001b[0m\u001b[0;34m\u001b[0m\u001b[0;34m\u001b[0m\u001b[0m\n\u001b[1;32m     19\u001b[0m \u001b[0;32mdel\u001b[0m \u001b[0mset1\u001b[0m\u001b[0;34m\u001b[0m\u001b[0;34m\u001b[0m\u001b[0m\n\u001b[0;32m---> 20\u001b[0;31m \u001b[0mprint\u001b[0m\u001b[0;34m(\u001b[0m\u001b[0mset1\u001b[0m\u001b[0;34m)\u001b[0m\u001b[0;34m\u001b[0m\u001b[0;34m\u001b[0m\u001b[0m\n\u001b[0m",
            "\u001b[0;31mNameError\u001b[0m: name 'set1' is not defined"
          ]
        }
      ]
    },
    {
      "cell_type": "code",
      "source": [
        "set2={\"mub\",\"python\",\"programming\"}\n",
        "\n",
        "\n",
        "set1={\"apple\",\"cherry\"}\n",
        "set3=set1.union(set2)\n",
        "print(set3)\n"
      ],
      "metadata": {
        "colab": {
          "base_uri": "https://localhost:8080/"
        },
        "id": "Z6xfmfM3Js9S",
        "outputId": "a4ad2a3c-de98-4a83-ee58-6dfcb439fe97"
      },
      "execution_count": null,
      "outputs": [
        {
          "output_type": "stream",
          "name": "stdout",
          "text": [
            "{'programming', 'mub', 'python', 'cherry', 'apple'}\n"
          ]
        }
      ]
    }
  ]
}